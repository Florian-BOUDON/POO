{
 "cells": [
  {
   "cell_type": "code",
   "execution_count": 1,
   "metadata": {},
   "outputs": [],
   "source": [
    "class Voiture:\n",
    "    roues=4\n",
    "    moteur=1\n",
    "    def __init__(self):\n",
    "        self.nom = \"A determiner\"\n",
    "    \n",
    "    def allumer(self):\n",
    "        print(\"la voiture démarre\")\n",
    "\n",
    "class Voiture_sport(Voiture):\n",
    "    def __init__(self):\n",
    "        self.nom=\"Ferrari\"\n",
    "\n",
    "    def allumer(self):\n",
    "        Voiture.allumer(self)\n",
    "        print(\"la voiture dep sport démarre\")"
   ]
  },
  {
   "cell_type": "code",
   "execution_count": 2,
   "metadata": {},
   "outputs": [
    {
     "name": "stdout",
     "output_type": "stream",
     "text": [
      "la voiture démarre\n",
      "la voiture de sport démarre\n"
     ]
    }
   ],
   "source": [
    "ma_voiture_sport = Voiture_sport()\n",
    "ma_voiture_sport.allumer()"
   ]
  },
  {
   "cell_type": "code",
   "execution_count": 5,
   "metadata": {},
   "outputs": [
    {
     "data": {
      "text/plain": [
       "'Ferrari'"
      ]
     },
     "execution_count": 5,
     "metadata": {},
     "output_type": "execute_result"
    }
   ],
   "source": [
    "ma_voiture_sport.nom"
   ]
  },
  {
   "cell_type": "code",
   "execution_count": 2,
   "metadata": {},
   "outputs": [],
   "source": [
    "class Voiture:\n",
    "\n",
    "    nombre_voiture=0\n",
    "\n",
    "    def __init__(self,marque):\n",
    "        self.marque=marque\n",
    "        Voiture.nombre_voiture += 1\n",
    "    \n",
    "    def show_marque(self):\n",
    "        print(f\"la marque de la voiture est : {self.marque}\")\n",
    "\n",
    "    @classmethod\n",
    "    def nombre_total(cls):\n",
    "        print(f\"il y a {cls.nombre_voiture} dans le parking\")\n",
    "        \n",
    "    "
   ]
  },
  {
   "cell_type": "code",
   "execution_count": 3,
   "metadata": {},
   "outputs": [
    {
     "name": "stdout",
     "output_type": "stream",
     "text": [
      "la marque de la voiture est : renault\n",
      "il y a 3 dans le parking\n",
      "il y a 3 dans le parking\n"
     ]
    }
   ],
   "source": [
    "voiture1 = Voiture(\"renault\")\n",
    "voiture2 = Voiture(\"peugeot\")\n",
    "voiture3 = Voiture(\"Merco\")\n",
    "\n",
    "voiture1.show_marque()\n",
    "\n",
    "Voiture.nombre_total()\n",
    "voiture1.nombre_total()"
   ]
  },
  {
   "cell_type": "code",
   "execution_count": 4,
   "metadata": {},
   "outputs": [
    {
     "name": "stdout",
     "output_type": "stream",
     "text": [
      "Valeur de x à l'intérieur de la méthode: 5\n"
     ]
    }
   ],
   "source": [
    "class MaClasse:\n",
    "    def une_methode(self):\n",
    "        x = 5\n",
    "        print(f\"Valeur de x à l'intérieur de la méthode: {x}\")\n",
    "\n",
    "# Utilisation\n",
    "objet = MaClasse()\n",
    "objet.une_methode()  # Affiche la valeur de x à l'intérieur de la méthode\n",
    "\n",
    "# Essayer d'accéder à x en dehors de la méthode\n",
    "# print(objet.x)  # Cela entraînera une erreur car x n'est pas un attribut de l'objet\n",
    "# print(x)  # Cela entraînera également une erreur car x n'est pas définie dans ce contexte\n"
   ]
  },
  {
   "cell_type": "code",
   "execution_count": null,
   "metadata": {},
   "outputs": [],
   "source": [
    "n=df.shape[0]\n",
    "p=df.shape[1]\n",
    "class acp_df:\n",
    "    def __init__(self, df: DataFrame) -> None:\n",
    " \n",
    "    \n",
    "    def acp_comp():\n",
    "        \n",
    "\n",
    "\n"
   ]
  },
  {
   "cell_type": "code",
   "execution_count": 5,
   "metadata": {},
   "outputs": [],
   "source": [
    "import pandas as pd"
   ]
  },
  {
   "cell_type": "code",
   "execution_count": null,
   "metadata": {},
   "outputs": [],
   "source": []
  },
  {
   "cell_type": "code",
   "execution_count": null,
   "metadata": {},
   "outputs": [],
   "source": []
  },
  {
   "cell_type": "code",
   "execution_count": null,
   "metadata": {},
   "outputs": [],
   "source": []
  },
  {
   "cell_type": "code",
   "execution_count": null,
   "metadata": {},
   "outputs": [],
   "source": []
  },
  {
   "cell_type": "code",
   "execution_count": null,
   "metadata": {},
   "outputs": [],
   "source": []
  },
  {
   "cell_type": "code",
   "execution_count": null,
   "metadata": {},
   "outputs": [],
   "source": []
  },
  {
   "cell_type": "code",
   "execution_count": null,
   "metadata": {},
   "outputs": [],
   "source": []
  },
  {
   "cell_type": "code",
   "execution_count": null,
   "metadata": {},
   "outputs": [],
   "source": []
  },
  {
   "cell_type": "code",
   "execution_count": null,
   "metadata": {},
   "outputs": [],
   "source": []
  },
  {
   "cell_type": "code",
   "execution_count": null,
   "metadata": {},
   "outputs": [],
   "source": []
  },
  {
   "cell_type": "code",
   "execution_count": null,
   "metadata": {},
   "outputs": [],
   "source": []
  },
  {
   "cell_type": "code",
   "execution_count": null,
   "metadata": {},
   "outputs": [],
   "source": []
  },
  {
   "cell_type": "code",
   "execution_count": null,
   "metadata": {},
   "outputs": [],
   "source": []
  },
  {
   "cell_type": "code",
   "execution_count": null,
   "metadata": {},
   "outputs": [],
   "source": []
  },
  {
   "cell_type": "code",
   "execution_count": null,
   "metadata": {},
   "outputs": [],
   "source": []
  },
  {
   "cell_type": "code",
   "execution_count": null,
   "metadata": {},
   "outputs": [],
   "source": []
  },
  {
   "cell_type": "code",
   "execution_count": null,
   "metadata": {},
   "outputs": [],
   "source": []
  }
 ],
 "metadata": {
  "kernelspec": {
   "display_name": "Python 3",
   "language": "python",
   "name": "python3"
  },
  "language_info": {
   "codemirror_mode": {
    "name": "ipython",
    "version": 3
   },
   "file_extension": ".py",
   "mimetype": "text/x-python",
   "name": "python",
   "nbconvert_exporter": "python",
   "pygments_lexer": "ipython3",
   "version": "3.11.0"
  }
 },
 "nbformat": 4,
 "nbformat_minor": 2
}
