{
 "cells": [
  {
   "cell_type": "markdown",
   "id": "44d83d45",
   "metadata": {},
   "source": [
    "# Programmation orientée objet 2"
   ]
  },
  {
   "cell_type": "markdown",
   "id": "0e8cc5d8",
   "metadata": {},
   "source": [
    "[site test facile](https://www.tresfacile.net/tp-poo-et-les-classes-en-python3-exercices-avec-solutions/)"
   ]
  },
  {
   "cell_type": "markdown",
   "id": "a4065184",
   "metadata": {},
   "source": [
    "## Vocabulaires\n",
    "**Classe**    \n",
    "Modèle de code abstrait qui représente et caratérise une catégorie d'objets ayant des propriétés communes (attributs et méthodes). La création d'un objet à partir d'une classe est appelé instanciation. L'objet crée à partir d'une classe est appelé instance ou objet d'instance (instance object).     \n",
    "      \n",
    "**Variable de classe**     \n",
    "Variable partagée partagé par toutes les instance d'une classe. Les variables de classe sont définies dans une classe mais en dehors de toute méthode de la classe. Les variables de classe ne sont pas utilisé aussi souvent que les variables d'instances. \n",
    "      \n",
    "**Data Member**     \n",
    "Une variable ou une variable d'instance qui contient les données associées à une classe et à ses objets.     \n",
    "     \n",
    "**Surcharge de fonction (Fonction overloading)**       \n",
    "Affectation de plusieurs comportements à une fonction particulière. L'opération effectuée varie en fonction des types d'objets ou d'arguments impliqués.     \n",
    "      \n",
    "**Variable d'instance**     \n",
    "Variables définie dans une méthode et n'appartenant qu'à l'instance actuelle d'une classe.   \n",
    "      \n",
    "**Héritage**     \n",
    "Transfert des caractéristiques d'une classe à d'autres classes qui en sont dérivées.   \n",
    "     \n",
    "**Instance**     \n",
    "Un objet crée à partir d'une certaine classe. Un objet qui appartient à une classe Circle, par exemple, est une intance de la classe Circle.    \n",
    "     \n",
    "**Instanciation**     \n",
    "Création d'une intance d'une classe.    \n",
    "     \n",
    "**Object**     \n",
    "Une instanciation unique d'une structure de données définie par sa classe. Un objet comprend à la fois des membres de données (variables de classes et variables d'instances), et des méthodes.  \n",
    "      \n",
    "**Surcharge**     \n",
    "Affectation de plusieurs fonctions à un opérateur particulier."
   ]
  },
  {
   "cell_type": "code",
   "execution_count": 44,
   "id": "a7b4391c",
   "metadata": {},
   "outputs": [],
   "source": [
    "# Exemple 1\n",
    "\n",
    "class Student:\n",
    "    name = 'Aladin'  # attibut de classe\n",
    "    def __init__(self,age):\n",
    "        self.age = age   # attribut d'instance\n",
    "        \n",
    "    @classmethod\n",
    "    def displayName(cls):\n",
    "        print(\"Le nom de l'étudiant est : \", cls.name)"
   ]
  },
  {
   "cell_type": "code",
   "execution_count": 48,
   "id": "574b0954",
   "metadata": {},
   "outputs": [
    {
     "name": "stdout",
     "output_type": "stream",
     "text": [
      "Le nom de l'étudiant est :  Aladin\n",
      "Le nom de l'étudiant est :  Aladin\n"
     ]
    }
   ],
   "source": [
    "Stud = Student(22)\n",
    "\n",
    "Student.displayName()\n",
    "\n",
    "# La méthode de classe est aussi accessible via un objet d'instance:\n",
    "Stud.displayName()"
   ]
  },
  {
   "cell_type": "code",
   "execution_count": 50,
   "id": "98612701",
   "metadata": {},
   "outputs": [],
   "source": [
    "# Exemple 2\n",
    "\n",
    "class Voiture:\n",
    "    \n",
    "    nombre_de_voitures = 0  # varible de classe\n",
    "    \n",
    "    def __init__(self,marque):\n",
    "        self.marque = marque\n",
    "        Voiture.nombre_de_voitures += 1   # attribut de classe\n",
    "    \n",
    "    def show_marque(self):\n",
    "        print(f\"La marque de la voiture est: {self.marque}.\") \n",
    "        \n",
    "    @classmethod\n",
    "    def nombre_total(cls) :\n",
    "        print(f\"Il y a {cls.nombre_de_voitures} voitures dans le parking.\")"
   ]
  },
  {
   "cell_type": "code",
   "execution_count": 51,
   "id": "7633dcbd",
   "metadata": {},
   "outputs": [
    {
     "name": "stdout",
     "output_type": "stream",
     "text": [
      "La marque de la voiture est: Renault.\n",
      "Il y a 3 voitures dans le parking.\n",
      "Il y a 3 voitures dans le parking.\n"
     ]
    }
   ],
   "source": [
    "voiture1 = Voiture(\"Renault\")\n",
    "voiture2 = Voiture(\"Dacia\")\n",
    "voiture3 = Voiture(\"Mercedes\")\n",
    "\n",
    "voiture1.show_marque()\n",
    "\n",
    "# accès à la méthode de classe\n",
    "Voiture.nombre_total()\n",
    "\n",
    "# accèes à la méthode de classe via un objet d'instance\n",
    "voiture1.nombre_total()"
   ]
  },
  {
   "cell_type": "code",
   "execution_count": 52,
   "id": "ddc9ff0d",
   "metadata": {},
   "outputs": [
    {
     "name": "stdout",
     "output_type": "stream",
     "text": [
      "Voici un exemple de méthode statique en python\n"
     ]
    }
   ],
   "source": [
    "# Exemple 3 : méthode statique\n",
    "# Une méthode statique est une méthode de classe ayant la propriété\n",
    "# d'être exécutée sans passer par l'instanciation\n",
    "\n",
    "class myClass:\n",
    "    \n",
    "    def __init__(self):\n",
    "        pass\n",
    "    \n",
    "    @staticmethod\n",
    "    def myStaticMethod():\n",
    "        print(\"Voici un exemple de méthode statique en python\")\n",
    "        \n",
    "myClass.myStaticMethod()"
   ]
  },
  {
   "cell_type": "code",
   "execution_count": 78,
   "id": "ee3af3c9",
   "metadata": {},
   "outputs": [
    {
     "name": "stdout",
     "output_type": "stream",
     "text": [
      "Jean\n",
      "25\n",
      "Informatique\n"
     ]
    }
   ],
   "source": [
    "class Personne:\n",
    "    def __init__(self, nom, age):\n",
    "        self.nom = nom\n",
    "        self.age = age\n",
    "\n",
    "class Student(Personne):\n",
    "    def __init__(self, nom, age, filiere):\n",
    "        super().__init__(nom, age)\n",
    "        self.filiere = filiere\n",
    "\n",
    "# Création d'une instance de la classe Personne\n",
    "personne1 = Personne(\"Jean\", 25)\n",
    "\n",
    "# Création d'une instance de la classe Student en utilisant l'instance de Personne\n",
    "student1 = Student(personne1.nom, personne1.age, \"Informatique\")\n",
    "\n",
    "# Affichage des attributs de student1\n",
    "print(student1.nom) # Jean\n",
    "print(student1.age) # 25\n",
    "print(student1.filiere) # Informatique\n"
   ]
  },
  {
   "cell_type": "code",
   "execution_count": 59,
   "id": "af6fdb35",
   "metadata": {},
   "outputs": [],
   "source": [
    "# Exemple : héritage multiple\n",
    "\n",
    "class calcul_1:\n",
    "    def somme(self,a,b):\n",
    "        return a+b\n",
    "    \n",
    "class calcul_2:\n",
    "    def multiplication(self,a,b):\n",
    "        return a*b\n",
    "\n",
    "class calcul_3(calcul_1, calcul_2):\n",
    "    def division(self,a,b):\n",
    "        return a/b"
   ]
  },
  {
   "cell_type": "code",
   "execution_count": 62,
   "id": "685800f8",
   "metadata": {},
   "outputs": [
    {
     "name": "stdout",
     "output_type": "stream",
     "text": [
      "5\n",
      "56\n",
      "3.0\n"
     ]
    }
   ],
   "source": [
    "calcul = calcul_3()\n",
    "print(calcul.somme(2,3))\n",
    "print(calcul.multiplication(7,8))\n",
    "print(calcul.division(9,3))"
   ]
  },
  {
   "cell_type": "code",
   "execution_count": 41,
   "id": "cdbe32c0",
   "metadata": {},
   "outputs": [],
   "source": [
    "class Rectangle:\n",
    "    \n",
    "    # Création d'un constructeur\n",
    "    def __init__(self,l,h):\n",
    "        self.l=l                  # attribut de classe\n",
    "        self.h=h\n",
    "    \n",
    "    # Méthode qui  calcul le périmètre\n",
    "    def Perimetre(self):\n",
    "        return 2*(self.l+self.h)\n",
    "    \n",
    "    # Méthode qui calcul la surface\n",
    "    def Surface(self):\n",
    "        return self.l*self.h\n",
    "    \n",
    "    \n",
    "class Parallépipede(Rectangle):\n",
    "    \n",
    "    def __init__(self,l,h,larg):\n",
    "        Rectangle.__init__(self,l,h)\n",
    "        self.larg = larg\n",
    "    \n",
    "    # Méthode qui calcul le volume \n",
    "    def Volume(self):\n",
    "        return self.h*self.l*self.larg"
   ]
  },
  {
   "cell_type": "code",
   "execution_count": 30,
   "id": "af1fc688",
   "metadata": {},
   "outputs": [],
   "source": [
    "rect = rectangle(5,5)"
   ]
  },
  {
   "cell_type": "code",
   "execution_count": 28,
   "id": "a7dd3da0",
   "metadata": {},
   "outputs": [
    {
     "data": {
      "text/plain": [
       "20"
      ]
     },
     "execution_count": 28,
     "metadata": {},
     "output_type": "execute_result"
    }
   ],
   "source": [
    "rect.perimetre()"
   ]
  },
  {
   "cell_type": "code",
   "execution_count": 31,
   "id": "91c09449",
   "metadata": {},
   "outputs": [
    {
     "data": {
      "text/plain": [
       "25"
      ]
     },
     "execution_count": 31,
     "metadata": {},
     "output_type": "execute_result"
    }
   ],
   "source": [
    "rect.surface()"
   ]
  },
  {
   "cell_type": "code",
   "execution_count": 38,
   "id": "49ff42a8",
   "metadata": {},
   "outputs": [],
   "source": [
    "parall = Parallépipede(2,2,2)"
   ]
  },
  {
   "cell_type": "code",
   "execution_count": null,
   "id": "67ca27a4",
   "metadata": {},
   "outputs": [],
   "source": [
    "class CompteBancaire:\n",
    "    \n",
    "    def __init__(self,numeroCompte,nom,solde):\n",
    "        self.numeroCompte = numeroCompte\n",
    "        self.nom = nom\n",
    "        self.solde = solde\n",
    "        \n",
    "    def Versement(self,v):\n",
    "        return self.v\n",
    "        \n",
    "    def retrait(self,r):\n",
    "        return self.r\n",
    "    \n",
    "    "
   ]
  },
  {
   "cell_type": "code",
   "execution_count": null,
   "id": "8f9aef46",
   "metadata": {},
   "outputs": [],
   "source": []
  }
 ],
 "metadata": {
  "kernelspec": {
   "display_name": "Python 3 (ipykernel)",
   "language": "python",
   "name": "python3"
  },
  "language_info": {
   "codemirror_mode": {
    "name": "ipython",
    "version": 3
   },
   "file_extension": ".py",
   "mimetype": "text/x-python",
   "name": "python",
   "nbconvert_exporter": "python",
   "pygments_lexer": "ipython3",
   "version": "3.10.9"
  }
 },
 "nbformat": 4,
 "nbformat_minor": 5
}
