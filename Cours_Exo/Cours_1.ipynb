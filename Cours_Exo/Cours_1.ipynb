{
 "cells": [
  {
   "cell_type": "markdown",
   "id": "d14aafae",
   "metadata": {},
   "source": [
    "# Programmation orientée objet 1"
   ]
  },
  {
   "cell_type": "markdown",
   "id": "6643b58c",
   "metadata": {},
   "source": [
    "[Cours python docteur](https://python.doctor/page-apprendre-programmation-orientee-objet-poo-classes-python-cours-debutants)"
   ]
  },
  {
   "cell_type": "markdown",
   "id": "14111458",
   "metadata": {},
   "source": [
    "## Vocabulaires\n",
    "**Classe**    \n",
    "Modèle de code abstrait qui représente et caratérise une catégorie d'objets ayant des propriétés communes (attributs et méthodes). La création d'un objet à partir d'une classe est appelé instanciation. L'objet crée à partir d'une classe est appelé instance ou objet d'instance (instance object).     \n",
    "      \n",
    "**Variable de classe**     \n",
    "Variable partagée par toutes les instance d'une classe. Les variables de classe sont définies dans une classe mais en dehors de toute méthode de la classe. Les variables de classe ne sont pas utilisé aussi souvent que les variables d'instances. \n",
    "      \n",
    "**Data Member**     \n",
    "Une variable ou une variable d'instance qui contient les données associées à une classe et à ses objets.     \n",
    "     \n",
    "**Surcharge de fonction (Fonction overloading)**       \n",
    "Affectation de plusieurs comportements à une fonction particulière. L'opération effectuée varie en fonction des types d'objets ou d'arguments impliqués.     \n",
    "      \n",
    "**Variable d'instance**     \n",
    "Variables définie dans une méthode et n'appartenant qu'à l'instance actuelle d'une classe.   \n",
    "      \n",
    "**Héritage**     \n",
    "Transfert des caractéristiques d'une classe à d'autres classes qui en sont dérivées.   \n",
    "     \n",
    "**Instance**     \n",
    "Un objet crée à partir d'une certaine classe. Un objet qui appartient à une classe Circle, par exemple, est une intance de la classe Circle.    \n",
    "     \n",
    "**Instanciation**     \n",
    "Création d'une intance d'une classe.    \n",
    "     \n",
    "**Object**     \n",
    "Une instanciation unique d'une structure de données définie par sa classe. Un objet comprend à la fois des membres de données (variables de classes et variables d'instances), et des méthodes.  \n",
    "      \n",
    "**Surcharge**     \n",
    "Affectation de plusieurs fonctions à un opérateur particulier."
   ]
  },
  {
   "cell_type": "markdown",
   "id": "e5b2d0aa",
   "metadata": {},
   "source": [
    "### Les classes \n",
    "une classe regroupe des fonctions et des attributs qui définissent un objet. On appelle par ailleurs les fonctions d'une classe des méthodes."
   ]
  },
  {
   "cell_type": "code",
   "execution_count": 1,
   "id": "21151728",
   "metadata": {},
   "outputs": [],
   "source": [
    "# coding:utf-8\n",
    "\n",
    "class Voiture:\n",
    "    \n",
    "    def __init__(self):\n",
    "        self.nom = \"Ferrari\""
   ]
  },
  {
   "cell_type": "markdown",
   "id": "90b10245",
   "metadata": {},
   "source": [
    "Notre classe Voiture est une sorte d'usine à créer des voitures.    \n",
    "La méthode __init__() est appelé lors de la création d'un objet.     \n",
    "self.nom est une manière de stoker une information dans la classe. On parle d'attribut de classe. Dans notre cas, on stock le nom dans l'attribut nom."
   ]
  },
  {
   "cell_type": "markdown",
   "id": "4b220c72",
   "metadata": {},
   "source": [
    "### Les objets\n",
    "un objet est une instance de classe. On peut créer autant d'objets que l'on désire avec une classe."
   ]
  },
  {
   "cell_type": "code",
   "execution_count": 2,
   "id": "8dcc6cde",
   "metadata": {},
   "outputs": [],
   "source": [
    "ma_voiture = Voiture()"
   ]
  },
  {
   "cell_type": "markdown",
   "id": "750cf626",
   "metadata": {},
   "source": [
    "### Les attributs de la classe\n",
    "Les attributs de classe permettent de stocker des informations au niveau de la classe. Elles sont similaires aux variables"
   ]
  },
  {
   "cell_type": "code",
   "execution_count": 3,
   "id": "897a2bb8",
   "metadata": {},
   "outputs": [
    {
     "data": {
      "text/plain": [
       "'Ferrari'"
      ]
     },
     "execution_count": 3,
     "metadata": {},
     "output_type": "execute_result"
    }
   ],
   "source": [
    "ma_voiture = Voiture()\n",
    "ma_voiture.nom"
   ]
  },
  {
   "cell_type": "code",
   "execution_count": 7,
   "id": "734d86b6",
   "metadata": {},
   "outputs": [
    {
     "name": "stdout",
     "output_type": "stream",
     "text": [
      "<class '__main__.Voiture'>\n"
     ]
    }
   ],
   "source": [
    "print(type(ma_voiture))"
   ]
  },
  {
   "cell_type": "markdown",
   "id": "35d070f4",
   "metadata": {},
   "source": [
    "Je peux à tout moment créer un attribut pour mon objet"
   ]
  },
  {
   "cell_type": "code",
   "execution_count": 6,
   "id": "388f2b5d",
   "metadata": {},
   "outputs": [
    {
     "name": "stdout",
     "output_type": "stream",
     "text": [
      "250\n",
      "<class 'int'>\n"
     ]
    }
   ],
   "source": [
    "ma_voiture.modele = 250\n",
    "print(ma_voiture.modele)\n",
    "print(type(ma_voiture.modele))"
   ]
  },
  {
   "cell_type": "markdown",
   "id": "053d4978",
   "metadata": {},
   "source": [
    "### Les méthodes\n",
    "les méthodes sont des fonctions définies dans une classe.    "
   ]
  },
  {
   "cell_type": "code",
   "execution_count": 8,
   "id": "7d464419",
   "metadata": {},
   "outputs": [],
   "source": [
    "# coding: utf-8\n",
    "\n",
    "class Voiture:\n",
    "    \n",
    "    def __init__(self):\n",
    "        self.nom = 'Ferrari'\n",
    "    \n",
    "    def donne_moi_modele(self):\n",
    "        return \"250\""
   ]
  },
  {
   "cell_type": "code",
   "execution_count": 9,
   "id": "50858de4",
   "metadata": {},
   "outputs": [
    {
     "data": {
      "text/plain": [
       "'250'"
      ]
     },
     "execution_count": 9,
     "metadata": {},
     "output_type": "execute_result"
    }
   ],
   "source": [
    "ma_voiture = Voiture()\n",
    "ma_voiture.donne_moi_modele()"
   ]
  },
  {
   "cell_type": "markdown",
   "id": "0b3a432e",
   "metadata": {},
   "source": [
    "### Les propriétés\n",
    "Il est préférable de passer par des propriétés pour changer les valeurs des attributs, ce n'est pas obligatoire, par convention on passe par des getter (accesseur) et des setters (mutateur) pour changer la valeur d'un atribut.    \n",
    "Cela permet de garder une cohérence pour le programmeur, si je change un attribut souvent cela peut impacter d'autres attributs et les mutateurs permettent de faire cette modification une fois pour toute."
   ]
  },
  {
   "cell_type": "code",
   "execution_count": 11,
   "id": "7f97ae0b",
   "metadata": {},
   "outputs": [],
   "source": [
    "class Voiture(object):\n",
    "    \n",
    "    def __init__(self):\n",
    "        self._roues = 4\n",
    "        \n",
    "    def _get_roues(self):\n",
    "        print(\"Réccupération du nombre de roues\")\n",
    "        return self._roues\n",
    "    \n",
    "    def _set_roues(self,v):\n",
    "        print(\"changement du nombre de roues\")\n",
    "        self._roues = v\n",
    "        \n",
    "    roues = property(_get_roues,_set_roues)"
   ]
  },
  {
   "cell_type": "markdown",
   "id": "e417d516",
   "metadata": {},
   "source": [
    "Quand on changera la valeur du nombre de roues, un message apparaîtra. En soit cela n'apporte rien mais au lieu de faire un simple print, on peut envoyer un email."
   ]
  },
  {
   "cell_type": "code",
   "execution_count": 12,
   "id": "4b4eb89a",
   "metadata": {},
   "outputs": [
    {
     "name": "stdout",
     "output_type": "stream",
     "text": [
      "changement du nombre de roues\n"
     ]
    }
   ],
   "source": [
    "ma_voiture = Voiture()\n",
    "ma_voiture.roues = 5"
   ]
  },
  {
   "cell_type": "code",
   "execution_count": 13,
   "id": "8b02ee23",
   "metadata": {},
   "outputs": [
    {
     "name": "stdout",
     "output_type": "stream",
     "text": [
      "Réccupération du nombre de roues\n"
     ]
    },
    {
     "data": {
      "text/plain": [
       "5"
      ]
     },
     "execution_count": 13,
     "metadata": {},
     "output_type": "execute_result"
    }
   ],
   "source": [
    "ma_voiture.roues"
   ]
  },
  {
   "cell_type": "markdown",
   "id": "4a3bf450",
   "metadata": {},
   "source": [
    "Il existe une autre syntaxe en passant par des décorateurs"
   ]
  },
  {
   "cell_type": "code",
   "execution_count": 14,
   "id": "25f0727b",
   "metadata": {},
   "outputs": [],
   "source": [
    "class Voiture(object):\n",
    "    \n",
    "    def __init__(self):\n",
    "        self._roues=4\n",
    "        \n",
    "    @property\n",
    "    def roues(self):\n",
    "        print(\"reccupération du nombre de roues\")\n",
    "        return self._roues\n",
    "    \n",
    "    @roues.setter\n",
    "    def roues(self, v):\n",
    "        print(\"changement du nombre de roues\")\n",
    "        self._roues = v"
   ]
  },
  {
   "cell_type": "markdown",
   "id": "c059281c",
   "metadata": {},
   "source": [
    "Le résultat sera le même, mais la lecture du code se trouve amélioré. "
   ]
  },
  {
   "cell_type": "markdown",
   "id": "30c432f4",
   "metadata": {},
   "source": [
    "### La fonction dir\n",
    "Parfois il est intéressant de décortiquer un objet pour résoudre un bug ou pour comprendre un script.     \n",
    "La fonction dir donne un appercu des méthodes de l'objet."
   ]
  },
  {
   "cell_type": "code",
   "execution_count": 15,
   "id": "e508ce7e",
   "metadata": {},
   "outputs": [
    {
     "data": {
      "text/plain": [
       "['__class__',\n",
       " '__delattr__',\n",
       " '__dict__',\n",
       " '__dir__',\n",
       " '__doc__',\n",
       " '__eq__',\n",
       " '__format__',\n",
       " '__ge__',\n",
       " '__getattribute__',\n",
       " '__gt__',\n",
       " '__hash__',\n",
       " '__init__',\n",
       " '__init_subclass__',\n",
       " '__le__',\n",
       " '__lt__',\n",
       " '__module__',\n",
       " '__ne__',\n",
       " '__new__',\n",
       " '__reduce__',\n",
       " '__reduce_ex__',\n",
       " '__repr__',\n",
       " '__setattr__',\n",
       " '__sizeof__',\n",
       " '__str__',\n",
       " '__subclasshook__',\n",
       " '__weakref__',\n",
       " '_get_roues',\n",
       " '_roues',\n",
       " '_set_roues',\n",
       " 'roues']"
      ]
     },
     "execution_count": 15,
     "metadata": {},
     "output_type": "execute_result"
    }
   ],
   "source": [
    "dir(ma_voiture)"
   ]
  },
  {
   "cell_type": "markdown",
   "id": "5dddb099",
   "metadata": {},
   "source": [
    "### L'attribut spécial  \"__ dict __\"\n",
    "\n",
    "Cet attribut donne les valeurs des attributs de l'instance"
   ]
  },
  {
   "cell_type": "code",
   "execution_count": 16,
   "id": "c9254c75",
   "metadata": {},
   "outputs": [
    {
     "data": {
      "text/plain": [
       "{'_roues': 5}"
      ]
     },
     "execution_count": 16,
     "metadata": {},
     "output_type": "execute_result"
    }
   ],
   "source": [
    "ma_voiture.__dict__"
   ]
  },
  {
   "cell_type": "markdown",
   "id": "35146809",
   "metadata": {},
   "source": [
    "### L'héritage de la classe\n",
    "L'héritage est un concepte utile, il permet de créer de nouvelles classes mais avec une base existante."
   ]
  },
  {
   "cell_type": "code",
   "execution_count": 17,
   "id": "9b9508a7",
   "metadata": {},
   "outputs": [],
   "source": [
    "class Voiture:\n",
    "    \n",
    "    roues = 4\n",
    "    moteur = 1\n",
    "    \n",
    "    def __init__(self):\n",
    "        self.nom = \"A déterminer\"\n",
    "        \n",
    "        \n",
    "class VoitureSport(Voiture):\n",
    "    \n",
    "    def __init__(self):\n",
    "        self.nom = \"Ferrari\"        "
   ]
  },
  {
   "cell_type": "markdown",
   "id": "e2355e33",
   "metadata": {},
   "source": [
    "On indique que VoitureSport hérite de classe voiture, elle reccupère toutes les méthode et les attributs.    \n",
    "On peut toujours instancier la classe Voiture si on le désire."
   ]
  },
  {
   "cell_type": "code",
   "execution_count": 18,
   "id": "207f3c40",
   "metadata": {},
   "outputs": [
    {
     "data": {
      "text/plain": [
       "'A déterminer'"
      ]
     },
     "execution_count": 18,
     "metadata": {},
     "output_type": "execute_result"
    }
   ],
   "source": [
    "ma_voiture = Voiture()\n",
    "ma_voiture.nom"
   ]
  },
  {
   "cell_type": "code",
   "execution_count": 19,
   "id": "94cf5d34",
   "metadata": {},
   "outputs": [
    {
     "data": {
      "text/plain": [
       "4"
      ]
     },
     "execution_count": 19,
     "metadata": {},
     "output_type": "execute_result"
    }
   ],
   "source": [
    "ma_voiture.roues"
   ]
  },
  {
   "cell_type": "markdown",
   "id": "ec305a44",
   "metadata": {},
   "source": [
    "Instancions la classe VoitureSport"
   ]
  },
  {
   "cell_type": "code",
   "execution_count": 20,
   "id": "0f4d0601",
   "metadata": {},
   "outputs": [
    {
     "data": {
      "text/plain": [
       "'Ferrari'"
      ]
     },
     "execution_count": 20,
     "metadata": {},
     "output_type": "execute_result"
    }
   ],
   "source": [
    "ma_voiture_sport = VoitureSport()\n",
    "ma_voiture_sport.nom"
   ]
  },
  {
   "cell_type": "code",
   "execution_count": 21,
   "id": "82dcb800",
   "metadata": {},
   "outputs": [
    {
     "data": {
      "text/plain": [
       "4"
      ]
     },
     "execution_count": 21,
     "metadata": {},
     "output_type": "execute_result"
    }
   ],
   "source": [
    "ma_voiture_sport.roues"
   ]
  },
  {
   "cell_type": "markdown",
   "id": "349283e1",
   "metadata": {},
   "source": [
    "On remarque tout d'abord que l'attribut roues a bien été hérité. Ensuite on remarque que la méthode __init__ a écrasé la méthode de la classe Voiture.       \n",
    "On parle alors de surcharge de méthode."
   ]
  },
  {
   "cell_type": "markdown",
   "id": "426cb4ab",
   "metadata": {},
   "source": [
    "### Polymorphisme / Surcharge de méthode\n",
    "Si une classe hérite d'une autre classe, elle hérite des méthodes de son parent."
   ]
  },
  {
   "cell_type": "code",
   "execution_count": 22,
   "id": "62f3401a",
   "metadata": {},
   "outputs": [],
   "source": [
    "class Voiture:\n",
    "    \n",
    "    roues = 4\n",
    "    moteur = 1\n",
    "    \n",
    "    def __init__(self):\n",
    "        self.nom = \"A déterminer\"\n",
    "        \n",
    "    def allumer(self):\n",
    "        print(\"Voiture démarre\")\n",
    "    \n",
    "class VoitureSport(Voiture):\n",
    "    \n",
    "    def __init__(self):\n",
    "        self.nom = \"Ferrari\""
   ]
  },
  {
   "cell_type": "code",
   "execution_count": 26,
   "id": "1bd54730",
   "metadata": {},
   "outputs": [],
   "source": [
    "ma_voiture_sport=VoitureSport()"
   ]
  },
  {
   "cell_type": "code",
   "execution_count": 27,
   "id": "e3a466cd",
   "metadata": {},
   "outputs": [
    {
     "name": "stdout",
     "output_type": "stream",
     "text": [
      "Voiture démarre\n"
     ]
    }
   ],
   "source": [
    "ma_voiture_sport.allumer()"
   ]
  },
  {
   "cell_type": "markdown",
   "id": "238d0094",
   "metadata": {},
   "source": [
    "Il est possible d'écraser la méthode de la classe parente en la redéfinissant, on parle alors de surcharger la méthode."
   ]
  },
  {
   "cell_type": "code",
   "execution_count": 28,
   "id": "4e86a076",
   "metadata": {},
   "outputs": [],
   "source": [
    "class Voiture:\n",
    "    \n",
    "    roues = 4\n",
    "    moteur = 1\n",
    "    \n",
    "    def __init__(self):\n",
    "        self.nom = \"A déterminer\"\n",
    "        \n",
    "    def allumer(self):\n",
    "        print(\"la voiture démarre\")\n",
    "        \n",
    "class VoitureSport(Voiture):\n",
    "    \n",
    "    def _init__(self):\n",
    "        self.nom = \"Ferrari\"\n",
    "        \n",
    "    def allumer(self):\n",
    "        print(\"La voiture de sport démarre\")"
   ]
  },
  {
   "cell_type": "code",
   "execution_count": 29,
   "id": "86b4e2f3",
   "metadata": {},
   "outputs": [
    {
     "name": "stdout",
     "output_type": "stream",
     "text": [
      "La voiture de sport démarre\n"
     ]
    }
   ],
   "source": [
    "ma_voiture_sport = VoitureSport()\n",
    "ma_voiture_sport.allumer()"
   ]
  },
  {
   "cell_type": "markdown",
   "id": "94d87837",
   "metadata": {},
   "source": [
    "Il est possible d'appeler la méthode du parent puis de faire la spécialité de la méthode.    \n",
    "On peut d'ailleur appeler n'importe quelle autre méthode."
   ]
  },
  {
   "cell_type": "code",
   "execution_count": 30,
   "id": "5cde71e6",
   "metadata": {},
   "outputs": [],
   "source": [
    "class Voiture:\n",
    "    \n",
    "    roues = 4\n",
    "    moteur = 1\n",
    "    \n",
    "    def __init__(self):\n",
    "        self.nom = \"A déterminer\"\n",
    "        \n",
    "    def allumer(self):\n",
    "        print(\"la voiture démarre\")\n",
    "        \n",
    "class VoitureSport(Voiture):\n",
    "    \n",
    "    def _init__(self):\n",
    "        self.nom = \"Ferrari\"\n",
    "        \n",
    "    def allumer(self):\n",
    "        Voiture.allumer(self)\n",
    "        print(\"La voiture de sport démarre\")"
   ]
  },
  {
   "cell_type": "code",
   "execution_count": 31,
   "id": "b1291974",
   "metadata": {},
   "outputs": [
    {
     "name": "stdout",
     "output_type": "stream",
     "text": [
      "la voiture démarre\n",
      "La voiture de sport démarre\n"
     ]
    }
   ],
   "source": [
    "ma_voiture_sport = VoitureSport()\n",
    "ma_voiture_sport.allumer()"
   ]
  },
  {
   "cell_type": "markdown",
   "id": "1a7ad215",
   "metadata": {},
   "source": [
    "Les classes Voiture et VoitureSport possédant une méthode de même nom mais ces méthodes n'effectuent pas les mêmes tâches.    \n",
    "On parle dans ce cas de polymorphisme."
   ]
  },
  {
   "cell_type": "markdown",
   "id": "ad202d39",
   "metadata": {},
   "source": [
    "Conventions\n",
    "Nommer la classe uniquement par des caractères alphanumériques et commençant par une majuscule.    \n",
    "Et à l'inverse l'instanceest nommé sans majuscule."
   ]
  },
  {
   "cell_type": "markdown",
   "id": "25f57983",
   "metadata": {},
   "source": []
  }
 ],
 "metadata": {
  "kernelspec": {
   "display_name": "Python 3 (ipykernel)",
   "language": "python",
   "name": "python3"
  },
  "language_info": {
   "codemirror_mode": {
    "name": "ipython",
    "version": 3
   },
   "file_extension": ".py",
   "mimetype": "text/x-python",
   "name": "python",
   "nbconvert_exporter": "python",
   "pygments_lexer": "ipython3",
   "version": "3.10.9"
  }
 },
 "nbformat": 4,
 "nbformat_minor": 5
}
